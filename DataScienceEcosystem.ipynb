{
 "cells": [
  {
   "cell_type": "markdown",
   "id": "9b53fd46-05c4-4580-a456-76282607dc90",
   "metadata": {},
   "source": [
    "# Data science Tools and Ecosystem"
   ]
  },
  {
   "cell_type": "markdown",
   "id": "77b8ba99-fa61-47fc-a155-768277156302",
   "metadata": {},
   "source": [
    "In this notebook, Data Science Tools and Ecosystem are summarized."
   ]
  },
  {
   "cell_type": "markdown",
   "id": "1f446ebb-bff8-4d63-bfec-212e70c6b63e",
   "metadata": {},
   "source": [
    "**Objectives:**\n",
    "* List of popular languages for Data Science\n",
    "* List of commonly used libraries by Data Scientists\n",
    "* How to create tables and headers in markdown"
   ]
  },
  {
   "cell_type": "markdown",
   "id": "b700c943-e05e-45ed-8ca8-f0c015b019cf",
   "metadata": {},
   "source": [
    "Some of the popular languages that Data Scientists use are:"
   ]
  },
  {
   "cell_type": "markdown",
   "id": "86429662-388b-451e-8be1-92949743e86c",
   "metadata": {},
   "source": [
    "1. Python\n",
    "2. R \n",
    "3. SQL\n",
    "4. Scala\n",
    "5. Julia\n",
    "6. Java"
   ]
  },
  {
   "cell_type": "markdown",
   "id": "a7c4c635-a9eb-4fab-8f6c-3a3b79adb412",
   "metadata": {},
   "source": [
    "Some of the commonly used libraries used by Data Scientists include:"
   ]
  },
  {
   "cell_type": "markdown",
   "id": "41ced8f4-affc-4adc-b637-1af1509e01b7",
   "metadata": {},
   "source": [
    "1. pandas\n",
    "2. NumPy\n",
    "3. Scikit-learn\n",
    "4. Matplotlib\n",
    "5. TensorFlow\n",
    "6. PyTorch\n",
    "7. ggplot2"
   ]
  },
  {
   "cell_type": "markdown",
   "id": "20cb2bb2-f5e8-4abb-b596-0f3ced640591",
   "metadata": {},
   "source": [
    "|Data Science Tools|\n",
    "|------------------|\n",
    "| Jupyter Notebook |\n",
    "| RStudio          |\n",
    "| VS code          |\n"
   ]
  },
  {
   "cell_type": "markdown",
   "id": "ce2b26e7-baa4-4eb9-942c-bff75171245e",
   "metadata": {},
   "source": [
    "### below are a few examples of evaluating arithmetic expressions in Python. "
   ]
  },
  {
   "cell_type": "code",
   "execution_count": 10,
   "id": "70343057-0116-4281-97bf-69fc4a8063e6",
   "metadata": {},
   "outputs": [
    {
     "data": {
      "text/plain": [
       "17"
      ]
     },
     "execution_count": 10,
     "metadata": {},
     "output_type": "execute_result"
    }
   ],
   "source": [
    "# This a simple arithmetic expression to mutiply then add integers:\n",
    "(3*4)+5"
   ]
  },
  {
   "cell_type": "code",
   "execution_count": 11,
   "id": "e02a26c1-fb4f-41ad-992f-c59f2a5493e8",
   "metadata": {},
   "outputs": [
    {
     "data": {
      "text/plain": [
       "3.3333333333333335"
      ]
     },
     "execution_count": 11,
     "metadata": {},
     "output_type": "execute_result"
    }
   ],
   "source": [
    "# This will convert 200 minutes to hours by diving by 60\n",
    "200/60"
   ]
  },
  {
   "cell_type": "markdown",
   "id": "a59f916e-1283-4e43-88c0-c86bb2dfec2b",
   "metadata": {},
   "source": [
    "## Author \n",
    "Yasir binsaif"
   ]
  },
  {
   "cell_type": "code",
   "execution_count": null,
   "id": "c3b3b891-e754-4265-874b-9eb1136b5970",
   "metadata": {},
   "outputs": [],
   "source": []
  }
 ],
 "metadata": {
  "kernelspec": {
   "display_name": "Python 3 (ipykernel)",
   "language": "python",
   "name": "python3"
  },
  "language_info": {
   "codemirror_mode": {
    "name": "ipython",
    "version": 3
   },
   "file_extension": ".py",
   "mimetype": "text/x-python",
   "name": "python",
   "nbconvert_exporter": "python",
   "pygments_lexer": "ipython3",
   "version": "3.12.8"
  }
 },
 "nbformat": 4,
 "nbformat_minor": 5
}
